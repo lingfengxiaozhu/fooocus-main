!pip install pygit2==1.12.2
%cd /content
!git https://github.com/lingfengxiaozhu/Fooocus.git
%cd /content/Fooocus
!python entry_with_update.py --share  --language zh --always-high-vram
