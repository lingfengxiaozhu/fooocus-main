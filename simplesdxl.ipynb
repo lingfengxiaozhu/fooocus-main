# 安装 Miniconda
!curl -O https://repo.anaconda.com/miniconda/Miniconda3-latest-Linux-x86_64.sh
!bash Miniconda3-latest-Linux-x86_64.sh -b -p /usr/local/miniconda
# 设置环境变量
import os
os.environ['PATH'] = '/usr/local/miniconda/bin:' + os.environ['PATH']
# 初始化 Conda
!source /usr/local/miniconda/etc/profile.d/conda.sh
!conda init
!source ~/.bashrc
# 安装 pygit2
!pip install pygit2==1.12.2
# 切换到工作目录
%cd /content
# 克隆 GitHub 仓库
!git clone https://github.com/metercai/SimpleSDXL.git
%cd /content/SimpleSDXL
# 安装 Python 依赖
!pip install -r requirements_versions.txt
# 创建 Conda 环境
!conda env create -f environment.yaml
# 激活 Conda 环境并运行脚本
!source /usr/local/miniconda/etc/profile.d/conda.sh && conda activate fooocus && python entry_with_update.py --share --always-high-vram

     
