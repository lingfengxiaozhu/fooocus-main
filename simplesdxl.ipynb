# 切换到 content 目录
%cd /content

# 更新包列表并安装必要的软件包
!apt-get update -qq
!apt-get install -y -qq git

# 克隆 SimpleSDXL 仓库
!git clone https://github.com/metercai/SimpleSDXL.git

# 切换到 SimpleSDXL 目录
%cd content/SimpleSDXL

# 安装特定版本的 pygit2 依赖
!pip install -q pygit2==1.12.2

# 安装 Python 依赖
!pip install -q -r requirements_versions.txt

# 运行 Python 脚本
!python entry_with_update.py --share --always-high-vram
