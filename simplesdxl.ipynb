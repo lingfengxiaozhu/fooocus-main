# 安装 Anaconda
!wget -qO- https://repo.anaconda.com/archive/Anaconda3-2022.05-Linux-x86_64.sh -O anaconda.sh
!bash ./anaconda.sh -b -p /opt/conda
!conda init bash
!source ~/.bashrc
!conda config --set auto_activate_base false
!conda create -n fooocus python=3.8 -y
!conda activate fooocus
# 安装 pygit2
!pip install pygit2==1.12.2
# 切换到工作目录
%cd /content
# 克隆 GitHub 仓库
!git clone https://github.com/metercai/SimpleSDXL.git
%cd /content/SimpleSDXL
# 安装 Python 依赖
!pip install -r requirements_versions.txt
# 创建 Conda 环境
!conda env create -f environment.yaml
# 激活 Conda 环境并运行脚本
!source activate fooocus && python entry_with_update.py --share --always-high-vram
