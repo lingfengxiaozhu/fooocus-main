# 安装 Miniconda
!curl -O https://repo.anaconda.com/miniconda/Miniconda3-latest-Linux-x86_64.sh
!bash Miniconda3-latest-Linux-x86_64.sh -b -p ~/miniconda

# 初始化 Conda
import os
os.environ['PATH'] = f"{os.path.expanduser('~')}/miniconda/bin:" + os.environ['PATH']
!eval "
HOME/miniconda/bin/conda shell.bash hook)"
!conda init
!source ~/.bashrc

# 克隆 SimpleSDXL 仓库
!git clone https://github.com/metercai/SimpleSDXL.git

# 切换到 SimpleSDXL 目录
%cd SimpleSDXL

# 创建 Conda 环境
!conda env create -f environment.yaml

# 激活 Conda 环境并安装 Python 依赖和运行脚本
!source ~/miniconda/bin/activate fooocus && pip install -r requirements_versions.txt && python entry_with_update.py --share --always-high-vram

     
