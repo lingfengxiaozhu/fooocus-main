# 安装 Miniconda
!curl -O https://repo.anaconda.com/miniconda/Miniconda3-latest-Linux-x86_64.sh
!bash Miniconda3-latest-Linux-x86_64.sh -b -p /usr/local
# 设置环境变量
import os
os.environ['PATH'] = '/usr/local/bin:/usr/local/condabin:' + os.environ['PATH']
# 初始化 Conda
!conda init bash
!source ~/.bashrc
# 切换到工作目录
%cd /content
# 克隆 GitHub 仓库
!git clone https://github.com/metercai/SimpleSDXL.git
%cd /content/SimpleSDXL
# 安装 Python 依赖
!pip install -r requirements_versions.txt
# 创建 Conda 环境
!conda env create -f environment.yaml
# 确保 pygit2 在 fooocus 环境中安装
!source /usr/local/etc/profile.d/conda.sh && conda activate fooocus && conda install -y pygit2==1.12.2
# 运行脚本
!source /usr/local/etc/profile.d/conda.sh && conda activate fooocus && python entry_with_update.py --share --always-high-vram
