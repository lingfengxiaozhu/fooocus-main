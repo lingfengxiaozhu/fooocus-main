!pip install pygit2==1.12.2
%cd /content
!git clone https://github.com/metercai/SimpleSDXL.git
%cd /content/SimpleSDXL
!conda env create -f environment.yaml
!conda activate fooocus
!pip install -r requirements_versions.txt
!python entry_with_update.py --share --always-high-vram
