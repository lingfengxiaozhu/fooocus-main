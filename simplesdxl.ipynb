!pip install pygit2==1.12.2
%cd /content
!git clone https://github.com/metercai/SimpleSDXL.git
%cd /content/SimpleSDXL
!pip install -r requirements_versions.txt
!conda env create -f environment.yaml
!source activate fooocus && python entry_with_update.py --share --always-high-vram
