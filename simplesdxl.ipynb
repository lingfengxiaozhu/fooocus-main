# 切换到 SimpleSDXL 目录
%cd /content

# 安装必要的依赖
!apt-get update
!apt-get install -y git

# 克隆 SimpleSDXL 仓库
!git clone https://github.com/metercai/SimpleSDXL.git

# 切换到 SimpleSDXL 目录
%cd /content/SimpleSDXL

# 安装 Python 依赖
!pip install -r requirements_versions.txt

# 运行 Python 脚本
!python entry_with_update.py --share --always-high-vram
