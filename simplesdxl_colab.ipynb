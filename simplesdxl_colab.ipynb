!git clone https://github.com/metercai/SimpleSDXL.git
%cd SimpleSDXL
!conda env create -f environment.yaml
!conda activate fooocus
!pip install -r requirements_versions.txt
