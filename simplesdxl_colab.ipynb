{
  "cells": [
    {
      "cell_type": "code",
      "execution_count": null,
      "metadata": {
        "id": "VjYy0F2gZIPR"
      },
      "outputs": [],
      "source": [
        "# 安装 Anaconda\n",
        "!wget -qO- https://repo.anaconda.com/archive/Anaconda3-2022.05-Linux-x86_64.sh -O anaconda.sh\n",
        "!bash ./anaconda.sh -b -p /opt/conda\n",
        "!conda init bash\n",
        "!source ~/.bashrc\n",
        "!conda config --set auto_activate_base false\n",
        "!conda create -n fooocus python=3.8 -y\n",
        "!conda activate fooocus\n",
        
        "# 安装 pygit2\n",
        "!pip install pygit2==1.12.2\n",
        
        "# 切换到工作目录\n",
        "%cd /content\n",
        
        "# 克隆 GitHub 仓库\n",
        "!git clone https://github.com/metercai/SimpleSDXL.git\n",
        "%cd /content/SimpleSDXL\n",
        
        "# 安装 Python 依赖\n",
        "!pip install -r requirements_versions.txt\n",
        
        "# 创建 Conda 环境\n",
        "!conda env create -f environment.yaml\n",
        
        "# 激活 Conda 环境并运行脚本\n",
        "!source activate fooocus && python entry_with_update.py --share --always-high-vram\n"
      ]
    }
  ],
  "metadata": {
    "accelerator": "GPU",
    "colab": {
      "gpuType": "T4",
      "provenance": []
    },
    "kernelspec": {
      "display_name": "Python 3",
      "name": "python3"
    },
    "language_info": {
      "name": "python"
    }
  },
  "nbformat": 4,
  "nbformat_minor": 0
}
