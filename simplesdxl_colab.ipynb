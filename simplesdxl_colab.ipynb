{
  "cells": [
    {
      "cell_type": "code",
      "execution_count": null,
      "metadata": {
        "id": "VjYy0F2gZIPR"
      },
      "outputs": [],
      "source": [
        "# 安装 Miniconda\n",
        "!curl -O https://repo.anaconda.com/miniconda/Miniconda3-latest-Linux-x86_64.sh\n",
        "!bash Miniconda3-latest-Linux-x86_64.sh -b -p ~/miniconda\n",
        "\n",
        "# 初始化 Conda\n",
        "import os\n",
        "os.environ['PATH'] = f\"{os.path.expanduser('~')}/miniconda/bin:\" + os.environ['PATH']\n",
        "!eval \"$($HOME/miniconda/bin/conda shell.bash hook)\"\n",
        "!conda init\n",
        "!source ~/.bashrc\n",
        "\n",
        "# 克隆 SimpleSDXL 仓库\n",
        "!git clone https://github.com/metercai/SimpleSDXL.git\n",
        "\n",
        "# 切换到 SimpleSDXL 目录\n",
        "%cd SimpleSDXL\n",
        "\n",
        "# 创建 Conda 环境\n",
        "!conda env create -f environment.yaml\n",
        "\n",
        "# 激活 Conda 环境并安装 Python 依赖和运行脚本\n",
        "!source ~/miniconda/bin/activate fooocus && pip install -r requirements_versions.txt && python entry_with_update.py --share --always-high-vram\n"
      ]
    }
  ],
  "metadata": {
    "accelerator": "GPU",
    "colab": {
      "gpuType": "T4",
      "provenance": []
    },
    "kernelspec": {
      "display_name": "Python 3",
      "name": "python3"
    },
    "language_info": {
      "name": "python"
    }
  },
  "nbformat": 4,
  "nbformat_minor": 0
}
