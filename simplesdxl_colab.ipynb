{
  "cells": [
    {
      "cell_type": "code",
      "execution_count": null,
      "metadata": {
        "id": "VjYy0F2gZIPR"
      },
      "outputs": [],
      "source": [
        "# 切换到 SimpleSDXL 目录\n",
        "%cd /content\n",
        "\n",
        "# 安装必要的依赖\n",
        "!apt-get update\n",
        "!apt-get install -y git\n",
        "\n",
        "# 克隆 SimpleSDXL 仓库\n",
        "!git clone https://github.com/metercai/SimpleSDXL.git\n",
        "\n",
        "# 切换到 SimpleSDXL 目录\n",
        "%cd SimpleSDXL\n",
        "\n",
        "# 安装 Python 依赖\n",
        "!pip install -r requirements_versions.txt\n",
        "\n",
        "# 运行 Python 脚本\n",
        "!python entry_with_update.py --share --always-high-vram\n"
      ]
    }
  ],
  "metadata": {
    "accelerator": "GPU",
    "colab": {
      "gpuType": "T4",
      "provenance": []
    },
    "kernelspec": {
      "display_name": "Python 3",
      "name": "python3"
    },
    "language_info": {
      "name": "python"
    }
  },
  "nbformat": 4,
  "nbformat_minor": 0
}
