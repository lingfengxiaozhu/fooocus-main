{
  "cells": [
    {
      "cell_type": "code",
      "execution_count": null,
      "metadata": {
        "id": "VjYy0F2gZIPR"
      },
      "outputs": [],
      "source": [
        "# 切换到 content 目录\n",
        "%cd /content\n",
        "\n",
        "# 更新包列表并安装必要的软件包\n",
        "!apt-get update -qq\n",
        "!apt-get install -y -qq git\n",
        "\n",
        "# 克隆 SimpleSDXL 仓库\n",
        "!git clone https://github.com/metercai/SimpleSDXL.git\n",
        "\n",
        "# 切换到 SimpleSDXL 目录\n",
        "%cd content/SimpleSDXL\n",
        "\n",
        "# 安装特定版本的 pygit2 依赖\n",
        "!pip install -q pygit2==1.12.2\n",
        "\n",
        "# 安装 Python 依赖\n",
        "!pip install -q -r requirements_versions.txt\n",
        "\n",
        "# 运行 Python 脚本\n",
        "!python entry_with_update.py --share --always-high-vram\n"
      ]
    }
  ],
  "metadata": {
    "accelerator": "GPU",
    "colab": {
      "gpuType": "T4",
      "provenance": []
    },
    "kernelspec": {
      "display_name": "Python 3",
      "name": "python3"
    },
    "language_info": {
      "name": "python"
    }
  },
  "nbformat": 4,
  "nbformat_minor": 0
}
