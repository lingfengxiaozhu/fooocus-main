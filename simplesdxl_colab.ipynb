{
  "cells": [
    {
      "cell_type": "code",
      "execution_count": null,
      "metadata": {
        "id": "VjYy0F2gZIPR"
      },
      "outputs": [],
      "source": [
        "# 安装 Miniconda\n",
        "!curl -O https://repo.anaconda.com/miniconda/Miniconda3-latest-Linux-x86_64.sh\n",
        "!bash Miniconda3-latest-Linux-x86_64.sh -b -p /usr/local\n",
        
        "# 设置环境变量\n",
        "import os\n",
        "os.environ['PATH'] = '/usr/local/bin:/usr/local/condabin:' + os.environ['PATH']\n",
        
        "# 初始化 Conda\n",
        "!conda init bash\n",
        "!source ~/.bashrc\n",
        
        "# 切换到工作目录\n",
        "%cd /content\n",
        
        "# 克隆 GitHub 仓库\n",
        "!git clone https://github.com/metercai/SimpleSDXL.git\n",
        "%cd /content/SimpleSDXL\n",
        
        "# 安装 Python 依赖\n",
        "!pip install -r requirements_versions.txt\n",
        
        "# 创建 Conda 环境\n",
        "!conda env create -f environment.yaml\n",
        
        "# 确保 pygit2 在 fooocus 环境中安装\n",
        "!source /usr/local/etc/profile.d/conda.sh && conda activate fooocus && conda install -y pygit2==1.12.2\n",
        
        "# 运行脚本\n",
        "!source /usr/local/etc/profile.d/conda.sh && conda activate fooocus && python entry_with_update.py --share --always-high-vram\n"
      ]
    }
  ],
  "metadata": {
    "accelerator": "GPU",
    "colab": {
      "gpuType": "T4",
      "provenance": []
    },
    "kernelspec": {
      "display_name": "Python 3",
      "name": "python3"
    },
    "language_info": {
      "name": "python"
    }
  },
  "nbformat": 4,
  "nbformat_minor": 0
}
